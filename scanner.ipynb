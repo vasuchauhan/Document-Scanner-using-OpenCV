{
 "cells": [
  {
   "cell_type": "markdown",
   "metadata": {},
   "source": [
    "# Document Scanner Using OpenCV"
   ]
  },
  {
   "cell_type": "markdown",
   "metadata": {},
   "source": [
    "### This notebook demonstrates how to scan a document from an image using OpenCV. The process includes reading the image, preprocessing it, detecting the document's contours, and applying a perspective transformation to obtain a scanned effect. "
   ]
  },
  {
   "cell_type": "markdown",
   "metadata": {},
   "source": [
    "#### We will import the necessary libraries: \n",
    "1. OpenCV for image processing \n",
    "2. NumPy for numerical operations \n",
    "3. Matplotlib for displaying images."
   ]
  },
  {
   "cell_type": "code",
   "execution_count": 1,
   "metadata": {},
   "outputs": [],
   "source": [
    "import cv2\n",
    "import numpy as np\n",
    "import matplotlib.pyplot as plt"
   ]
  },
  {
   "cell_type": "markdown",
   "metadata": {},
   "source": [
    "### Defining Helper Functions\n",
    "\n",
    "1. **order_points(pts)**: This function orders the points of the detected contour in a specific order (top-left, top-right, bottom-right, bottom-left).\n",
    "2. **four_point_transform(image, pts)**: This function applies a perspective transformation to the image based on the ordered points.\n"
   ]
  },
  {
   "cell_type": "code",
   "execution_count": 2,
   "metadata": {},
   "outputs": [],
   "source": [
    "def order_points(pts):\n",
    "    rect = np.zeros((4, 2), dtype=\"float32\")\n",
    "    s = pts.sum(axis=1)\n",
    "    rect[0] = pts[np.argmin(s)]\n",
    "    rect[2] = pts[np.argmax(s)]\n",
    "\n",
    "    diff = np.diff(pts, axis=1)\n",
    "    rect[1] = pts[np.argmin(diff)]\n",
    "    rect[3] = pts[np.argmax(diff)]\n",
    "\n",
    "    return rect\n",
    "\n",
    "def four_point_transform(image, pts):\n",
    "    rect = order_points(pts)\n",
    "    (tl, tr, br, bl) = rect\n",
    "\n",
    "    widthA = np.sqrt(((br[0] - bl[0]) ** 2) + ((br[1] - bl[1]) ** 2))\n",
    "    widthB = np.sqrt(((tr[0] - tl[0]) ** 2) + ((tr[1] - tl[1]) ** 2))\n",
    "    maxWidth = max(int(widthA), int(widthB))\n",
    "\n",
    "    heightA = np.sqrt(((tr[0] - br[0]) ** 2) + ((tr[1] - br[1]) ** 2))\n",
    "    heightB = np.sqrt(((tl[0] - bl[0]) ** 2) + ((tl[1] - bl[1]) ** 2))\n",
    "    maxHeight = max(int(heightA), int(heightB))\n",
    "\n",
    "    dst = np.array([\n",
    "        [0, 0],\n",
    "        [maxWidth - 1, 0],\n",
    "        [maxWidth - 1, maxHeight - 1],\n",
    "        [0, maxHeight - 1]], dtype=\"float32\")\n",
    "\n",
    "    M = cv2.getPerspectiveTransform(rect, dst)\n",
    "    warped = cv2.warpPerspective(image, M, (maxWidth, maxHeight))\n",
    "\n",
    "    return warped"
   ]
  },
  {
   "cell_type": "markdown",
   "metadata": {},
   "source": [
    "### **scan_document(image_path)**: This function orchestrates the entire scanning process from reading the image to returning the scanned output.\n",
    "1. Image Preprocessing: The code converts the image to grayscale and applies Gaussian blur to reduce noise. Then it uses the Canny edge detector algorithm to find edges - this is a mathematical algorithm, not a trained model.\n",
    "2. Contour Detection: The code finds contours in the edge-detected image using geometric algorithms to trace the boundaries.\n",
    "3. Document Border Detection: it approximates the contours and find the document's four corners\n",
    "4. Perspective Transform: Finally, it applies a perspective transform using matrix operations to get a top-down view."
   ]
  },
  {
   "cell_type": "code",
   "execution_count": 3,
   "metadata": {},
   "outputs": [],
   "source": [
    "def scan_document(image_path):\n",
    "    image = cv2.imread(image_path)\n",
    "    orig = image.copy()\n",
    "    ratio = image.shape[0] / 500.0\n",
    "    image = cv2.resize(image, (int(image.shape[1] / ratio), 500))\n",
    "\n",
    "    gray = cv2.cvtColor(image, cv2.COLOR_BGR2GRAY)\n",
    "    gray = cv2.GaussianBlur(gray, (5, 5), 0)\n",
    "    edged = cv2.Canny(gray, 75, 200)\n",
    "\n",
    "    kernel = np.ones((3, 3), np.uint8)\n",
    "    edged = cv2.dilate(edged, kernel, iterations=1)\n",
    "    edged = cv2.erode(edged, kernel, iterations=1)\n",
    "\n",
    "\n",
    "    cnts, _ = cv2.findContours(edged.copy(), cv2.RETR_LIST, cv2.CHAIN_APPROX_SIMPLE)\n",
    "    cnts = sorted(cnts, key=cv2.contourArea, reverse=True)[:5]\n",
    "\n",
    "    screenCnt = None\n",
    "    for c in cnts:\n",
    "        peri = cv2.arcLength(c, True)\n",
    "        approx = cv2.approxPolyDP(c, 0.02 * peri, True)\n",
    "\n",
    "        if len(approx) == 4:\n",
    "            screenCnt = approx\n",
    "            break\n",
    "\n",
    "    if screenCnt is None:\n",
    "        print(\"No document detected. Please try another image.\")\n",
    "        return\n",
    "\n",
    "    warped = four_point_transform(orig, screenCnt.reshape(4, 2) * ratio)\n",
    "    warped = cv2.cvtColor(warped, cv2.COLOR_BGR2GRAY)\n",
    "    T = cv2.adaptiveThreshold(warped, 255, cv2.ADAPTIVE_THRESH_GAUSSIAN_C, cv2.THRESH_BINARY, 11, 2)\n",
    "    return image, T"
   ]
  },
  {
   "cell_type": "markdown",
   "metadata": {},
   "source": [
    "## Scanning a Document\n",
    "\n",
    "In this cell we will specify the path to the input image and call the `scan_document` function to perform the scanning operation.\n"
   ]
  },
  {
   "cell_type": "code",
   "execution_count": null,
   "metadata": {},
   "outputs": [],
   "source": [
    "if __name__ == \"__main__\":\n",
    "    input_image_path = \"sample_images/dollar_bill.JPG\"  # Replace this with the path of your document image \n",
    "    orig_resized, scanned_image = scan_document(input_image_path)\n",
    "\n",
    "    if scanned_image is not None:\n",
    "        fig, (ax1, ax2) = plt.subplots(1, 2, figsize=(15, 15))\n",
    "\n",
    "        # Show the original image\n",
    "        ax1.imshow(cv2.cvtColor(orig_resized, cv2.COLOR_BGR2RGB))\n",
    "        ax1.axis('off')\n",
    "        ax1.set_title('Original Image')\n",
    "\n",
    "        # Show the scanned image\n",
    "        ax2.imshow(scanned_image, cmap='gray')\n",
    "        ax2.axis('off')\n",
    "        ax2.set_title('Scanned Image')\n",
    "\n",
    "        plt.show()"
   ]
  }
 ],
 "metadata": {
  "kernelspec": {
   "display_name": "Python 3",
   "language": "python",
   "name": "python3"
  },
  "language_info": {
   "codemirror_mode": {
    "name": "ipython",
    "version": 3
   },
   "file_extension": ".py",
   "mimetype": "text/x-python",
   "name": "python",
   "nbconvert_exporter": "python",
   "pygments_lexer": "ipython3",
   "version": "3.12.3"
  }
 },
 "nbformat": 4,
 "nbformat_minor": 2
}
